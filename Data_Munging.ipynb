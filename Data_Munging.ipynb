{
  "nbformat": 4,
  "nbformat_minor": 0,
  "metadata": {
    "colab": {
      "name": "Data_Munging.ipynb",
      "provenance": [],
      "collapsed_sections": [],
      "include_colab_link": true
    },
    "kernelspec": {
      "name": "python3",
      "display_name": "Python 3"
    },
    "accelerator": "GPU"
  },
  "cells": [
    {
      "cell_type": "markdown",
      "metadata": {
        "id": "view-in-github",
        "colab_type": "text"
      },
      "source": [
        "<a href=\"https://colab.research.google.com/github/Mohith29/Machine-Learning-/blob/master/Data_Munging.ipynb\" target=\"_parent\"><img src=\"https://colab.research.google.com/assets/colab-badge.svg\" alt=\"Open In Colab\"/></a>"
      ]
    },
    {
      "cell_type": "markdown",
      "metadata": {
        "id": "RWR22OAlTBlU"
      },
      "source": [
        "# Advanced Certification in AIML\n",
        "## A Program by IIIT-H and TalentSprint\n",
        "\n"
      ]
    },
    {
      "cell_type": "markdown",
      "metadata": {
        "id": "DIfh2REWFr6p"
      },
      "source": [
        "## Learning Objective"
      ]
    },
    {
      "cell_type": "markdown",
      "metadata": {
        "id": "LrIlNFZeKMsx"
      },
      "source": [
        "At the end of this experiment, you will be able to:\n",
        "\n",
        "* perform Data preprocessing"
      ]
    },
    {
      "cell_type": "code",
      "metadata": {
        "cellView": "form",
        "id": "nYG9AXM_oe--",
        "outputId": "92cded1b-109b-4b86-a0d1-39e165e41d6d",
        "colab": {
          "base_uri": "https://localhost:8080/",
          "height": 261
        }
      },
      "source": [
        "#@title Mini Hackathon Walkthrough\n",
        "from IPython.display import HTML\n",
        "\n",
        "HTML(\"\"\"<video width=\"320\" height=\"240\" controls>\n",
        "  <source src=\"https://cdn.talentsprint.com/talentsprint1/archives/sc/aiml/aiml_batch_15/preview_videos/Mini_Hackathon_Data_Munging_Briefing.mp4\" type=\"video/mp4\">\n",
        "</video>\n",
        "\"\"\")"
      ],
      "execution_count": null,
      "outputs": [
        {
          "output_type": "execute_result",
          "data": {
            "text/html": [
              "<video width=\"320\" height=\"240\" controls>\n",
              "  <source src=\"https://cdn.talentsprint.com/talentsprint1/archives/sc/aiml/aiml_batch_15/preview_videos/Mini_Hackathon_Data_Munging_Briefing.mp4\" type=\"video/mp4\">\n",
              "</video>\n"
            ],
            "text/plain": [
              "<IPython.core.display.HTML object>"
            ]
          },
          "metadata": {
            "tags": []
          },
          "execution_count": 46
        }
      ]
    },
    {
      "cell_type": "markdown",
      "metadata": {
        "id": "V3vgcWwOF2cK"
      },
      "source": [
        "## Problem Statement"
      ]
    },
    {
      "cell_type": "markdown",
      "metadata": {
        "id": "mfv616s92gl_"
      },
      "source": [
        "We will be using district wise demographics, enrollments, and teacher indicator data to predict whether the literacy rate is high/ medium/ low in each district."
      ]
    },
    {
      "cell_type": "markdown",
      "metadata": {
        "id": "md2IjdMdGCWm"
      },
      "source": [
        "### Data Preprocessing"
      ]
    },
    {
      "cell_type": "markdown",
      "metadata": {
        "id": "3B5ztQVbKMsz"
      },
      "source": [
        "Data preprocessing is an important step in solving every machine learning problem. Most of\n",
        "the datasets used with Machine Learning problems need to be processed / cleaned / transformed\n",
        "so that a Machine Learning algorithm can be trained on it."
      ]
    },
    {
      "cell_type": "markdown",
      "metadata": {
        "id": "QsxaJLZAKMs0"
      },
      "source": [
        "There are different steps involved in Data Preprocessing. These steps are as follows:"
      ]
    },
    {
      "cell_type": "markdown",
      "metadata": {
        "id": "QF3Eg-5pKMs1"
      },
      "source": [
        "    1. Data Cleaning → In this step the primary focus is on\n",
        "        - Handling missing data\n",
        "        - Handling noisy data\n",
        "        - Detection and removal of outliers\n",
        "    \n",
        "    2. Data Integration → This process is used when data is gathered from various data sources\n",
        "    and data are combined to form consistent data. This data after performing cleaning is used\n",
        "    for analysis.\n",
        "    \n",
        "    3. Data Transformation → In this step we will convert the raw data into a specified format according to the need of the model we are building. There are many options used for\n",
        "    transforming the data as below:\n",
        "        - Normalization\n",
        "        - Aggregation\n",
        "        - Generalization\n",
        "        \n",
        "    4. Data Reduction → Following data transformation and scaling, the redundancy within the data is removed and is organized efficiently.\n",
        "\n"
      ]
    },
    {
      "cell_type": "markdown",
      "metadata": {
        "id": "Qk0G-I3iKMs2"
      },
      "source": [
        "### Total Marks  = 20"
      ]
    },
    {
      "cell_type": "code",
      "metadata": {
        "cellView": "form",
        "id": "4UpjelxSBoGN",
        "outputId": "0d4001b0-715c-400e-c4c3-74a41b8a131d",
        "colab": {
          "base_uri": "https://localhost:8080/",
          "height": 34
        }
      },
      "source": [
        "# @title Download the datasets\n",
        "from IPython import get_ipython\n",
        "\n",
        "ipython = get_ipython()\n",
        "  \n",
        "notebook=\"U1_MH1_Data_Munging\" #name of the notebook\n",
        "\n",
        "def setup():\n",
        "    from IPython.display import HTML, display\n",
        "    ipython.magic(\"sx wget https://cdn.iiith.talentsprint.com/aiml/Experiment_related_data/B15_Data_Munging.zip\")\n",
        "    ipython.magic(\"sx unzip B15_Data_Munging.zip\")\n",
        "    print(\"Data downloaded successfully\")\n",
        "    return\n",
        "\n",
        "setup()"
      ],
      "execution_count": null,
      "outputs": [
        {
          "output_type": "stream",
          "text": [
            "Data downloaded successfully\n"
          ],
          "name": "stdout"
        }
      ]
    },
    {
      "cell_type": "code",
      "metadata": {
        "id": "e7VD8dJgGhVw"
      },
      "source": [
        "!ls"
      ],
      "execution_count": null,
      "outputs": []
    },
    {
      "cell_type": "markdown",
      "metadata": {
        "id": "hZSlj_nWKMs4"
      },
      "source": [
        "## Exercise 1 - Load and Explore the Data (2 Marks)\n",
        "1. We have three different files\n",
        "\n",
        "  * Districtwise_Basicdata.csv\n",
        "  * Districtwise_Enrollment_details_indicator.csv\n",
        "  * Districtwise_Teacher_indicator.csv\n",
        "\n",
        "  These files contain the necessary data to solve the problem. <br>\n",
        "\n",
        "2. Load the files based on **team allocation** mentioned below. Observe the header level details, data records while loading the data.\n",
        "  \n",
        "  Hint : Use read_csv from pandas with [skiprows or header](https://towardsdatascience.com/import-csv-files-as-pandas-dataframe-with-skiprows-skipfooter-usecols-index-col-and-header-fbf67a2f92a) options.\n",
        "\n",
        "3. Read the columns of the dataset and rename if required.\n",
        "\n",
        "  Hint : Rename column names (if any) using the following [link](https://pandas.pydata.org/pandas-docs/stable/reference/api/pandas.DataFrame.rename.html)."
      ]
    },
    {
      "cell_type": "markdown",
      "metadata": {
        "id": "L7xw5qs68uWE"
      },
      "source": [
        "Team allocation for dataset selection\n",
        "\n",
        "    Team A = 1,3,5,7,9,11,13,15 \n",
        "        Districtwise_Basicdata.csv\n",
        "        Districtwise_Enrollment_details_indicator.csv\n",
        "\n",
        "    Team B = 2,4,6,8,10,12,14,16\n",
        "        Districtwise_Basicdata.csv\n",
        "        Districtwise_Teacher_indicator.csv"
      ]
    },
    {
      "cell_type": "code",
      "metadata": {
        "id": "_XRregSb9wdB"
      },
      "source": [
        "# Importing all the required packages and add neccesary imports if required\n",
        "import pandas as pd\n",
        "import numpy as np"
      ],
      "execution_count": null,
      "outputs": []
    },
    {
      "cell_type": "code",
      "metadata": {
        "id": "la-GbwZKBD0L"
      },
      "source": [
        "# YOUR CODE HERE for loading and exploring the datasets\n",
        "\n",
        "data1 = pd.read_csv('Districtwise_Basicdata.csv',header=1)\n",
        "data2 = pd.read_csv('Districtwise_Teacher_indicator.csv',header=3)"
      ],
      "execution_count": null,
      "outputs": []
    },
    {
      "cell_type": "code",
      "metadata": {
        "id": "Kumn2Ta6z6Cu",
        "outputId": "5dabe49e-2001-40e7-dde3-bf4eb64f8a08",
        "colab": {
          "base_uri": "https://localhost:8080/",
          "height": 289
        }
      },
      "source": [
        "print(data1.head())\n",
        "print(data2.head())"
      ],
      "execution_count": null,
      "outputs": [
        {
          "output_type": "stream",
          "text": [
            "      Year  Statecd  ... overall_lit  female_lit\n",
            "0  2012-13       35  ...        High       84.52\n",
            "1  2012-13       35  ...        High       79.39\n",
            "2  2012-13       35  ...        High       70.70\n",
            "3  2012-13       28  ...         Low       51.99\n",
            "4  2012-13       28  ...         Low       54.31\n",
            "\n",
            "[5 rows x 19 columns]\n",
            "   statecd  ... tch_nontch\n",
            "0       35  ...        519\n",
            "1       35  ...        362\n",
            "2       35  ...         28\n",
            "3       28  ...        263\n",
            "4       28  ...       1185\n",
            "\n",
            "[5 rows x 181 columns]\n"
          ],
          "name": "stdout"
        }
      ]
    },
    {
      "cell_type": "code",
      "metadata": {
        "id": "rmMTbuFl0f2K"
      },
      "source": [
        "data1.head()\n",
        "data1 = data1.rename(columns={\"Statecd\": \"State Code\"})\n",
        "data1 = data1.rename(columns={\"distcd\": \"District Code\"})"
      ],
      "execution_count": null,
      "outputs": []
    },
    {
      "cell_type": "code",
      "metadata": {
        "id": "DiHBHK3U0r5j",
        "outputId": "f07d332f-29bb-41de-f499-a5f7790aeef0",
        "colab": {
          "base_uri": "https://localhost:8080/",
          "height": 542
        }
      },
      "source": [
        "data2 = data2.rename(columns={\"ac_year\": \"Year\"})\n",
        "data2 = data2.rename(columns={\"statecd\": \"State Code\"})\n",
        "data2 = data2.rename(columns={\"distcd\": \"District Code\"})\n",
        "\n",
        "data2.head()"
      ],
      "execution_count": null,
      "outputs": [
        {
          "output_type": "execute_result",
          "data": {
            "text/html": [
              "<div>\n",
              "<style scoped>\n",
              "    .dataframe tbody tr th:only-of-type {\n",
              "        vertical-align: middle;\n",
              "    }\n",
              "\n",
              "    .dataframe tbody tr th {\n",
              "        vertical-align: top;\n",
              "    }\n",
              "\n",
              "    .dataframe thead th {\n",
              "        text-align: right;\n",
              "    }\n",
              "</style>\n",
              "<table border=\"1\" class=\"dataframe\">\n",
              "  <thead>\n",
              "    <tr style=\"text-align: right;\">\n",
              "      <th></th>\n",
              "      <th>State Code</th>\n",
              "      <th>statename</th>\n",
              "      <th>District Code</th>\n",
              "      <th>distname</th>\n",
              "      <th>Year</th>\n",
              "      <th>tch_govt1</th>\n",
              "      <th>tch_govt2</th>\n",
              "      <th>tch_govt3</th>\n",
              "      <th>tch_govt4</th>\n",
              "      <th>tch_govt5</th>\n",
              "      <th>tch_govt6</th>\n",
              "      <th>tch_govt7</th>\n",
              "      <th>tch_govt9</th>\n",
              "      <th>tch_pvt1</th>\n",
              "      <th>tch_pvt2</th>\n",
              "      <th>tch_pvt3</th>\n",
              "      <th>tch_pvt4</th>\n",
              "      <th>tch_pvt5</th>\n",
              "      <th>tch_pvt6</th>\n",
              "      <th>tch_pvt7</th>\n",
              "      <th>tch_pvt9</th>\n",
              "      <th>tch_un1</th>\n",
              "      <th>tch_un2</th>\n",
              "      <th>tch_un3</th>\n",
              "      <th>tch_un4</th>\n",
              "      <th>tch_un5</th>\n",
              "      <th>tch_un6</th>\n",
              "      <th>tch_un7</th>\n",
              "      <th>tch_un9</th>\n",
              "      <th>tch_bs1</th>\n",
              "      <th>tch_bs2</th>\n",
              "      <th>tch_bs3</th>\n",
              "      <th>tch_bs4</th>\n",
              "      <th>tch_bs5</th>\n",
              "      <th>tch_bs6</th>\n",
              "      <th>tch_bs7</th>\n",
              "      <th>tch_bs_p</th>\n",
              "      <th>tch_s1</th>\n",
              "      <th>tch_s2</th>\n",
              "      <th>tch_s3</th>\n",
              "      <th>...</th>\n",
              "      <th>tch_sc_m7</th>\n",
              "      <th>tch_sc_f1</th>\n",
              "      <th>tch_sc_f2</th>\n",
              "      <th>tch_sc_f3</th>\n",
              "      <th>tch_sc_f4</th>\n",
              "      <th>tch_sc_f5</th>\n",
              "      <th>tch_sc_f6</th>\n",
              "      <th>tch_sc_f7</th>\n",
              "      <th>tch_st_m1</th>\n",
              "      <th>tch_st_m2</th>\n",
              "      <th>tch_st_m3</th>\n",
              "      <th>tch_st_m4</th>\n",
              "      <th>tch_st_m5</th>\n",
              "      <th>tch_st_m6</th>\n",
              "      <th>tch_st_m7</th>\n",
              "      <th>tch_st_f1</th>\n",
              "      <th>tch_st_f2</th>\n",
              "      <th>tch_st_f3</th>\n",
              "      <th>tch_st_f4</th>\n",
              "      <th>tch_st_f5</th>\n",
              "      <th>tch_st_f6</th>\n",
              "      <th>tch_st_f7</th>\n",
              "      <th>trn_tch_m1</th>\n",
              "      <th>trn_tch_m2</th>\n",
              "      <th>trn_tch_m3</th>\n",
              "      <th>trn_tch_m4</th>\n",
              "      <th>trn_tch_m5</th>\n",
              "      <th>trn_tch_m6</th>\n",
              "      <th>trn_tch_m7</th>\n",
              "      <th>trn_tch_f1</th>\n",
              "      <th>trn_tch_f2</th>\n",
              "      <th>trn_tch_f3</th>\n",
              "      <th>trn_tch_f4</th>\n",
              "      <th>trn_tch_f5</th>\n",
              "      <th>trn_tch_f6</th>\n",
              "      <th>trn_tch_f7</th>\n",
              "      <th>prof_trn_tch_r</th>\n",
              "      <th>prof_trn_tch_p</th>\n",
              "      <th>days_nontch</th>\n",
              "      <th>tch_nontch</th>\n",
              "    </tr>\n",
              "  </thead>\n",
              "  <tbody>\n",
              "    <tr>\n",
              "      <th>0</th>\n",
              "      <td>35</td>\n",
              "      <td>ANDAMAN &amp; NICOBAR ISLANDS                     ...</td>\n",
              "      <td>3501</td>\n",
              "      <td>ANDAMANS                                      ...</td>\n",
              "      <td>2012-13</td>\n",
              "      <td>329</td>\n",
              "      <td>429</td>\n",
              "      <td>1097</td>\n",
              "      <td>0</td>\n",
              "      <td>127</td>\n",
              "      <td>432</td>\n",
              "      <td>0</td>\n",
              "      <td>0</td>\n",
              "      <td>308</td>\n",
              "      <td>117</td>\n",
              "      <td>317</td>\n",
              "      <td>0</td>\n",
              "      <td>0</td>\n",
              "      <td>83</td>\n",
              "      <td>0</td>\n",
              "      <td>0</td>\n",
              "      <td>0</td>\n",
              "      <td>0</td>\n",
              "      <td>0</td>\n",
              "      <td>0</td>\n",
              "      <td>0</td>\n",
              "      <td>0</td>\n",
              "      <td>0</td>\n",
              "      <td>0</td>\n",
              "      <td>15</td>\n",
              "      <td>9</td>\n",
              "      <td>13</td>\n",
              "      <td>0</td>\n",
              "      <td>0</td>\n",
              "      <td>4</td>\n",
              "      <td>0</td>\n",
              "      <td>11</td>\n",
              "      <td>9</td>\n",
              "      <td>10</td>\n",
              "      <td>25</td>\n",
              "      <td>...</td>\n",
              "      <td>0</td>\n",
              "      <td>0</td>\n",
              "      <td>0</td>\n",
              "      <td>1</td>\n",
              "      <td>0</td>\n",
              "      <td>0</td>\n",
              "      <td>0</td>\n",
              "      <td>0</td>\n",
              "      <td>4</td>\n",
              "      <td>3</td>\n",
              "      <td>16</td>\n",
              "      <td>0</td>\n",
              "      <td>0</td>\n",
              "      <td>8</td>\n",
              "      <td>0</td>\n",
              "      <td>11</td>\n",
              "      <td>5</td>\n",
              "      <td>18</td>\n",
              "      <td>0</td>\n",
              "      <td>1</td>\n",
              "      <td>11</td>\n",
              "      <td>0</td>\n",
              "      <td>69</td>\n",
              "      <td>97</td>\n",
              "      <td>64</td>\n",
              "      <td>0</td>\n",
              "      <td>14</td>\n",
              "      <td>66</td>\n",
              "      <td>0</td>\n",
              "      <td>134</td>\n",
              "      <td>176</td>\n",
              "      <td>135</td>\n",
              "      <td>0</td>\n",
              "      <td>22</td>\n",
              "      <td>103</td>\n",
              "      <td>0</td>\n",
              "      <td>2968</td>\n",
              "      <td>228</td>\n",
              "      <td>12</td>\n",
              "      <td>519</td>\n",
              "    </tr>\n",
              "    <tr>\n",
              "      <th>1</th>\n",
              "      <td>35</td>\n",
              "      <td>ANDAMAN &amp; NICOBAR ISLANDS                     ...</td>\n",
              "      <td>3503</td>\n",
              "      <td>MIDDLE AND NORTH ANDAMANS                     ...</td>\n",
              "      <td>2012-13</td>\n",
              "      <td>305</td>\n",
              "      <td>285</td>\n",
              "      <td>194</td>\n",
              "      <td>95</td>\n",
              "      <td>268</td>\n",
              "      <td>175</td>\n",
              "      <td>0</td>\n",
              "      <td>0</td>\n",
              "      <td>103</td>\n",
              "      <td>31</td>\n",
              "      <td>0</td>\n",
              "      <td>0</td>\n",
              "      <td>0</td>\n",
              "      <td>15</td>\n",
              "      <td>0</td>\n",
              "      <td>0</td>\n",
              "      <td>0</td>\n",
              "      <td>0</td>\n",
              "      <td>0</td>\n",
              "      <td>0</td>\n",
              "      <td>0</td>\n",
              "      <td>0</td>\n",
              "      <td>0</td>\n",
              "      <td>0</td>\n",
              "      <td>1</td>\n",
              "      <td>0</td>\n",
              "      <td>0</td>\n",
              "      <td>0</td>\n",
              "      <td>0</td>\n",
              "      <td>1</td>\n",
              "      <td>0</td>\n",
              "      <td>3</td>\n",
              "      <td>7</td>\n",
              "      <td>4</td>\n",
              "      <td>3</td>\n",
              "      <td>...</td>\n",
              "      <td>0</td>\n",
              "      <td>1</td>\n",
              "      <td>1</td>\n",
              "      <td>0</td>\n",
              "      <td>0</td>\n",
              "      <td>0</td>\n",
              "      <td>0</td>\n",
              "      <td>0</td>\n",
              "      <td>0</td>\n",
              "      <td>1</td>\n",
              "      <td>6</td>\n",
              "      <td>2</td>\n",
              "      <td>7</td>\n",
              "      <td>0</td>\n",
              "      <td>0</td>\n",
              "      <td>2</td>\n",
              "      <td>2</td>\n",
              "      <td>3</td>\n",
              "      <td>0</td>\n",
              "      <td>4</td>\n",
              "      <td>2</td>\n",
              "      <td>0</td>\n",
              "      <td>126</td>\n",
              "      <td>79</td>\n",
              "      <td>32</td>\n",
              "      <td>8</td>\n",
              "      <td>45</td>\n",
              "      <td>37</td>\n",
              "      <td>0</td>\n",
              "      <td>84</td>\n",
              "      <td>85</td>\n",
              "      <td>40</td>\n",
              "      <td>3</td>\n",
              "      <td>28</td>\n",
              "      <td>60</td>\n",
              "      <td>0</td>\n",
              "      <td>1249</td>\n",
              "      <td>203</td>\n",
              "      <td>8</td>\n",
              "      <td>362</td>\n",
              "    </tr>\n",
              "    <tr>\n",
              "      <th>2</th>\n",
              "      <td>35</td>\n",
              "      <td>ANDAMAN &amp; NICOBAR ISLANDS                     ...</td>\n",
              "      <td>3502</td>\n",
              "      <td>NICOBARS                                      ...</td>\n",
              "      <td>2012-13</td>\n",
              "      <td>110</td>\n",
              "      <td>95</td>\n",
              "      <td>56</td>\n",
              "      <td>0</td>\n",
              "      <td>135</td>\n",
              "      <td>114</td>\n",
              "      <td>0</td>\n",
              "      <td>0</td>\n",
              "      <td>8</td>\n",
              "      <td>0</td>\n",
              "      <td>0</td>\n",
              "      <td>0</td>\n",
              "      <td>0</td>\n",
              "      <td>0</td>\n",
              "      <td>0</td>\n",
              "      <td>0</td>\n",
              "      <td>0</td>\n",
              "      <td>0</td>\n",
              "      <td>0</td>\n",
              "      <td>0</td>\n",
              "      <td>0</td>\n",
              "      <td>0</td>\n",
              "      <td>0</td>\n",
              "      <td>0</td>\n",
              "      <td>1</td>\n",
              "      <td>0</td>\n",
              "      <td>1</td>\n",
              "      <td>0</td>\n",
              "      <td>0</td>\n",
              "      <td>0</td>\n",
              "      <td>0</td>\n",
              "      <td>0</td>\n",
              "      <td>26</td>\n",
              "      <td>7</td>\n",
              "      <td>8</td>\n",
              "      <td>...</td>\n",
              "      <td>0</td>\n",
              "      <td>0</td>\n",
              "      <td>0</td>\n",
              "      <td>0</td>\n",
              "      <td>0</td>\n",
              "      <td>0</td>\n",
              "      <td>0</td>\n",
              "      <td>0</td>\n",
              "      <td>33</td>\n",
              "      <td>29</td>\n",
              "      <td>18</td>\n",
              "      <td>0</td>\n",
              "      <td>27</td>\n",
              "      <td>27</td>\n",
              "      <td>0</td>\n",
              "      <td>53</td>\n",
              "      <td>32</td>\n",
              "      <td>16</td>\n",
              "      <td>0</td>\n",
              "      <td>28</td>\n",
              "      <td>40</td>\n",
              "      <td>0</td>\n",
              "      <td>36</td>\n",
              "      <td>25</td>\n",
              "      <td>18</td>\n",
              "      <td>0</td>\n",
              "      <td>22</td>\n",
              "      <td>31</td>\n",
              "      <td>0</td>\n",
              "      <td>58</td>\n",
              "      <td>29</td>\n",
              "      <td>23</td>\n",
              "      <td>0</td>\n",
              "      <td>17</td>\n",
              "      <td>46</td>\n",
              "      <td>0</td>\n",
              "      <td>430</td>\n",
              "      <td>78</td>\n",
              "      <td>20</td>\n",
              "      <td>28</td>\n",
              "    </tr>\n",
              "    <tr>\n",
              "      <th>3</th>\n",
              "      <td>28</td>\n",
              "      <td>ANDHRA PRADESH                                ...</td>\n",
              "      <td>2801</td>\n",
              "      <td>ADILABAD                                      ...</td>\n",
              "      <td>2012-13</td>\n",
              "      <td>4749</td>\n",
              "      <td>1788</td>\n",
              "      <td>38</td>\n",
              "      <td>0</td>\n",
              "      <td>22</td>\n",
              "      <td>939</td>\n",
              "      <td>4309</td>\n",
              "      <td>0</td>\n",
              "      <td>2004</td>\n",
              "      <td>2298</td>\n",
              "      <td>0</td>\n",
              "      <td>0</td>\n",
              "      <td>0</td>\n",
              "      <td>327</td>\n",
              "      <td>2222</td>\n",
              "      <td>0</td>\n",
              "      <td>214</td>\n",
              "      <td>82</td>\n",
              "      <td>0</td>\n",
              "      <td>0</td>\n",
              "      <td>0</td>\n",
              "      <td>5</td>\n",
              "      <td>5</td>\n",
              "      <td>0</td>\n",
              "      <td>0</td>\n",
              "      <td>0</td>\n",
              "      <td>0</td>\n",
              "      <td>0</td>\n",
              "      <td>0</td>\n",
              "      <td>0</td>\n",
              "      <td>0</td>\n",
              "      <td>0</td>\n",
              "      <td>798</td>\n",
              "      <td>152</td>\n",
              "      <td>0</td>\n",
              "      <td>...</td>\n",
              "      <td>621</td>\n",
              "      <td>401</td>\n",
              "      <td>252</td>\n",
              "      <td>4</td>\n",
              "      <td>0</td>\n",
              "      <td>0</td>\n",
              "      <td>37</td>\n",
              "      <td>294</td>\n",
              "      <td>1447</td>\n",
              "      <td>394</td>\n",
              "      <td>1</td>\n",
              "      <td>0</td>\n",
              "      <td>1</td>\n",
              "      <td>409</td>\n",
              "      <td>260</td>\n",
              "      <td>288</td>\n",
              "      <td>126</td>\n",
              "      <td>1</td>\n",
              "      <td>0</td>\n",
              "      <td>0</td>\n",
              "      <td>187</td>\n",
              "      <td>146</td>\n",
              "      <td>1964</td>\n",
              "      <td>554</td>\n",
              "      <td>0</td>\n",
              "      <td>0</td>\n",
              "      <td>0</td>\n",
              "      <td>46</td>\n",
              "      <td>641</td>\n",
              "      <td>830</td>\n",
              "      <td>267</td>\n",
              "      <td>0</td>\n",
              "      <td>0</td>\n",
              "      <td>0</td>\n",
              "      <td>8</td>\n",
              "      <td>248</td>\n",
              "      <td>16419</td>\n",
              "      <td>845</td>\n",
              "      <td>13</td>\n",
              "      <td>263</td>\n",
              "    </tr>\n",
              "    <tr>\n",
              "      <th>4</th>\n",
              "      <td>28</td>\n",
              "      <td>ANDHRA PRADESH                                ...</td>\n",
              "      <td>2822</td>\n",
              "      <td>ANANTAPUR                                     ...</td>\n",
              "      <td>2012-13</td>\n",
              "      <td>5797</td>\n",
              "      <td>2879</td>\n",
              "      <td>209</td>\n",
              "      <td>8</td>\n",
              "      <td>6733</td>\n",
              "      <td>2</td>\n",
              "      <td>52</td>\n",
              "      <td>0</td>\n",
              "      <td>2063</td>\n",
              "      <td>2184</td>\n",
              "      <td>106</td>\n",
              "      <td>0</td>\n",
              "      <td>2307</td>\n",
              "      <td>0</td>\n",
              "      <td>41</td>\n",
              "      <td>0</td>\n",
              "      <td>52</td>\n",
              "      <td>97</td>\n",
              "      <td>0</td>\n",
              "      <td>0</td>\n",
              "      <td>8</td>\n",
              "      <td>0</td>\n",
              "      <td>0</td>\n",
              "      <td>0</td>\n",
              "      <td>0</td>\n",
              "      <td>0</td>\n",
              "      <td>0</td>\n",
              "      <td>0</td>\n",
              "      <td>0</td>\n",
              "      <td>0</td>\n",
              "      <td>0</td>\n",
              "      <td>0</td>\n",
              "      <td>132</td>\n",
              "      <td>80</td>\n",
              "      <td>1</td>\n",
              "      <td>...</td>\n",
              "      <td>1</td>\n",
              "      <td>457</td>\n",
              "      <td>236</td>\n",
              "      <td>12</td>\n",
              "      <td>0</td>\n",
              "      <td>444</td>\n",
              "      <td>1</td>\n",
              "      <td>4</td>\n",
              "      <td>281</td>\n",
              "      <td>143</td>\n",
              "      <td>5</td>\n",
              "      <td>0</td>\n",
              "      <td>210</td>\n",
              "      <td>0</td>\n",
              "      <td>3</td>\n",
              "      <td>136</td>\n",
              "      <td>69</td>\n",
              "      <td>3</td>\n",
              "      <td>0</td>\n",
              "      <td>139</td>\n",
              "      <td>0</td>\n",
              "      <td>0</td>\n",
              "      <td>2521</td>\n",
              "      <td>1161</td>\n",
              "      <td>2</td>\n",
              "      <td>0</td>\n",
              "      <td>1226</td>\n",
              "      <td>0</td>\n",
              "      <td>10</td>\n",
              "      <td>1652</td>\n",
              "      <td>726</td>\n",
              "      <td>0</td>\n",
              "      <td>0</td>\n",
              "      <td>591</td>\n",
              "      <td>0</td>\n",
              "      <td>3</td>\n",
              "      <td>21487</td>\n",
              "      <td>676</td>\n",
              "      <td>14</td>\n",
              "      <td>1185</td>\n",
              "    </tr>\n",
              "  </tbody>\n",
              "</table>\n",
              "<p>5 rows × 181 columns</p>\n",
              "</div>"
            ],
            "text/plain": [
              "   State Code  ... tch_nontch\n",
              "0          35  ...        519\n",
              "1          35  ...        362\n",
              "2          35  ...         28\n",
              "3          28  ...        263\n",
              "4          28  ...       1185\n",
              "\n",
              "[5 rows x 181 columns]"
            ]
          },
          "metadata": {
            "tags": []
          },
          "execution_count": 6
        }
      ]
    },
    {
      "cell_type": "markdown",
      "metadata": {
        "id": "K2A3OKraKMs9"
      },
      "source": [
        "## Exercise 2  - Data Integration (3 Marks)\n",
        "\n",
        "As the required data is present in different datasets, we need to **integrate both to make a single dataframe/dataset**.\n",
        "  * For integrating the datasets, create a unique identifier for each row in both the dataframes so that it can be used to map the data in different files.\n",
        "   \n",
        "    * Combine year, state code, district code columns and form a new unique identifier column, refer this [link](https://stackoverflow.com/questions/33098383/merge-multiple-column-values-into-one-column-in-python-pandas).\n",
        "    * Set the identifier column as the index for each dataframe.\n",
        "\n",
        "    * Integrate the dataframes using the above index\n",
        "     \n",
        "     Hint: For merging or joining the datasets, refer to this [link](https://pandas.pydata.org/pandas-docs/stable/user_guide/merging.html)\n",
        "\n",
        "**Example:** Data of the district Anantapur in Andrapradesh, which is present in different files should form a single row after integrating the datasets\n"
      ]
    },
    {
      "cell_type": "code",
      "metadata": {
        "id": "wXvBjPIH4CWH",
        "outputId": "6f7ac379-8933-45ba-c500-9f45e49abbe5",
        "colab": {
          "base_uri": "https://localhost:8080/",
          "height": 513
        }
      },
      "source": [
        "# YOUR CODE HERE for integrating the datasets\n",
        "\n",
        "data1['info'] = data1[['Year', 'State Code', 'District Code']].apply(\n",
        "    lambda x: ''.join(x.dropna().astype(str)),\n",
        "    axis=1\n",
        ")\n"
      ],
      "execution_count": null,
      "outputs": [
        {
          "output_type": "execute_result",
          "data": {
            "text/html": [
              "<div>\n",
              "<style scoped>\n",
              "    .dataframe tbody tr th:only-of-type {\n",
              "        vertical-align: middle;\n",
              "    }\n",
              "\n",
              "    .dataframe tbody tr th {\n",
              "        vertical-align: top;\n",
              "    }\n",
              "\n",
              "    .dataframe thead th {\n",
              "        text-align: right;\n",
              "    }\n",
              "</style>\n",
              "<table border=\"1\" class=\"dataframe\">\n",
              "  <thead>\n",
              "    <tr style=\"text-align: right;\">\n",
              "      <th></th>\n",
              "      <th>Year</th>\n",
              "      <th>State Code</th>\n",
              "      <th>statename</th>\n",
              "      <th>District Code</th>\n",
              "      <th>distname</th>\n",
              "      <th>blocks</th>\n",
              "      <th>clusters</th>\n",
              "      <th>villages</th>\n",
              "      <th>totschools</th>\n",
              "      <th>totpopulation</th>\n",
              "      <th>p_06_pop</th>\n",
              "      <th>p_urb_pop</th>\n",
              "      <th>sexratio</th>\n",
              "      <th>sexratio_06</th>\n",
              "      <th>growthrate</th>\n",
              "      <th>p_sc_pop</th>\n",
              "      <th>p_st_pop</th>\n",
              "      <th>overall_lit</th>\n",
              "      <th>female_lit</th>\n",
              "      <th>info</th>\n",
              "    </tr>\n",
              "  </thead>\n",
              "  <tbody>\n",
              "    <tr>\n",
              "      <th>0</th>\n",
              "      <td>2012-13</td>\n",
              "      <td>35</td>\n",
              "      <td>ANDAMAN &amp; NICOBAR ISLANDS                     ...</td>\n",
              "      <td>3501</td>\n",
              "      <td>ANDAMANS                                      ...</td>\n",
              "      <td>3</td>\n",
              "      <td>16</td>\n",
              "      <td>83</td>\n",
              "      <td>212</td>\n",
              "      <td>237586.0</td>\n",
              "      <td>23616.05</td>\n",
              "      <td>55.89</td>\n",
              "      <td>874.0</td>\n",
              "      <td>980.0</td>\n",
              "      <td>13.97</td>\n",
              "      <td>0.00</td>\n",
              "      <td>1.72</td>\n",
              "      <td>High</td>\n",
              "      <td>84.52</td>\n",
              "      <td>2012-13353501</td>\n",
              "    </tr>\n",
              "    <tr>\n",
              "      <th>1</th>\n",
              "      <td>2012-13</td>\n",
              "      <td>35</td>\n",
              "      <td>ANDAMAN &amp; NICOBAR ISLANDS                     ...</td>\n",
              "      <td>3503</td>\n",
              "      <td>MIDDLE AND NORTH ANDAMANS                     ...</td>\n",
              "      <td>3</td>\n",
              "      <td>13</td>\n",
              "      <td>76</td>\n",
              "      <td>181</td>\n",
              "      <td>105539.0</td>\n",
              "      <td>11651.51</td>\n",
              "      <td>2.60</td>\n",
              "      <td>925.0</td>\n",
              "      <td>975.0</td>\n",
              "      <td>-0.07</td>\n",
              "      <td>0.00</td>\n",
              "      <td>0.72</td>\n",
              "      <td>High</td>\n",
              "      <td>79.39</td>\n",
              "      <td>2012-13353503</td>\n",
              "    </tr>\n",
              "    <tr>\n",
              "      <th>2</th>\n",
              "      <td>2012-13</td>\n",
              "      <td>35</td>\n",
              "      <td>ANDAMAN &amp; NICOBAR ISLANDS                     ...</td>\n",
              "      <td>3502</td>\n",
              "      <td>NICOBARS                                      ...</td>\n",
              "      <td>3</td>\n",
              "      <td>8</td>\n",
              "      <td>42</td>\n",
              "      <td>58</td>\n",
              "      <td>36819.0</td>\n",
              "      <td>4226.82</td>\n",
              "      <td>0.00</td>\n",
              "      <td>778.0</td>\n",
              "      <td>961.0</td>\n",
              "      <td>-12.48</td>\n",
              "      <td>0.00</td>\n",
              "      <td>64.28</td>\n",
              "      <td>High</td>\n",
              "      <td>70.70</td>\n",
              "      <td>2012-13353502</td>\n",
              "    </tr>\n",
              "    <tr>\n",
              "      <th>3</th>\n",
              "      <td>2012-13</td>\n",
              "      <td>28</td>\n",
              "      <td>ANDHRA PRADESH                                ...</td>\n",
              "      <td>2801</td>\n",
              "      <td>ADILABAD                                      ...</td>\n",
              "      <td>52</td>\n",
              "      <td>356</td>\n",
              "      <td>1576</td>\n",
              "      <td>4983</td>\n",
              "      <td>2737738.0</td>\n",
              "      <td>295675.70</td>\n",
              "      <td>27.68</td>\n",
              "      <td>1003.0</td>\n",
              "      <td>942.0</td>\n",
              "      <td>10.04</td>\n",
              "      <td>17.82</td>\n",
              "      <td>18.09</td>\n",
              "      <td>Low</td>\n",
              "      <td>51.99</td>\n",
              "      <td>2012-13282801</td>\n",
              "    </tr>\n",
              "    <tr>\n",
              "      <th>4</th>\n",
              "      <td>2012-13</td>\n",
              "      <td>28</td>\n",
              "      <td>ANDHRA PRADESH                                ...</td>\n",
              "      <td>2822</td>\n",
              "      <td>ANANTAPUR                                     ...</td>\n",
              "      <td>63</td>\n",
              "      <td>564</td>\n",
              "      <td>929</td>\n",
              "      <td>5188</td>\n",
              "      <td>4083315.0</td>\n",
              "      <td>427114.75</td>\n",
              "      <td>28.09</td>\n",
              "      <td>977.0</td>\n",
              "      <td>927.0</td>\n",
              "      <td>12.16</td>\n",
              "      <td>14.29</td>\n",
              "      <td>3.78</td>\n",
              "      <td>Low</td>\n",
              "      <td>54.31</td>\n",
              "      <td>2012-13282822</td>\n",
              "    </tr>\n",
              "  </tbody>\n",
              "</table>\n",
              "</div>"
            ],
            "text/plain": [
              "      Year  State Code  ... female_lit           info\n",
              "0  2012-13          35  ...      84.52  2012-13353501\n",
              "1  2012-13          35  ...      79.39  2012-13353503\n",
              "2  2012-13          35  ...      70.70  2012-13353502\n",
              "3  2012-13          28  ...      51.99  2012-13282801\n",
              "4  2012-13          28  ...      54.31  2012-13282822\n",
              "\n",
              "[5 rows x 20 columns]"
            ]
          },
          "metadata": {
            "tags": []
          },
          "execution_count": 7
        }
      ]
    },
    {
      "cell_type": "code",
      "metadata": {
        "id": "RNUr_Ey-UzHY"
      },
      "source": [
        "data2['info'] = data2[['Year', 'State Code', 'District Code']].apply(\n",
        "    lambda x: ''.join(x.dropna().astype(str)),\n",
        "    axis=1\n",
        ")\n"
      ],
      "execution_count": null,
      "outputs": []
    },
    {
      "cell_type": "code",
      "metadata": {
        "id": "cXp7lMmNU4ws"
      },
      "source": [
        "data1 = data1.set_index('info')\n",
        "data2 = data2.set_index('info')\n",
        "\n",
        "\n",
        "\n"
      ],
      "execution_count": null,
      "outputs": []
    },
    {
      "cell_type": "code",
      "metadata": {
        "id": "XaVi_xqdf1Hm"
      },
      "source": [
        "frames = [data1, data2]\n",
        "result = pd.concat((frames),axis=1)"
      ],
      "execution_count": null,
      "outputs": []
    },
    {
      "cell_type": "markdown",
      "metadata": {
        "id": "_jcX4aRsKMtE"
      },
      "source": [
        "## Exercise 3 - Data Cleaning (3 Marks)\n",
        "\n",
        "1.  **Overall_lit** is our target variable. Delete rows with missing overall_lit value\n",
        "\n",
        "   Hint: Refer to the link [dropna](https://pandas.pydata.org/pandas-docs/stable/reference/api/pandas.DataFrame.dropna.html).\n",
        "\n",
        "\n",
        "2.  Convert categorical values to numerical values.\n",
        "\n",
        "  For example, If a feature contains categorical values such as dog, cat, mouse, etc then replace them with 1, 2, 3, etc or use [Sklearn LabelEncoder's](https://scikit-learn.org/stable/modules/generated/sklearn.preprocessing.LabelEncoder.html) \n",
        "\n",
        "3. Replace the missing values in any other column appropriately with mean / median / mode.\n",
        "\n",
        "  Hint: Use pandas [fillna](https://pandas.pydata.org/pandas-docs/stable/reference/api/pandas.DataFrame.fillna.html) function to replace the missing values\n",
        "\n",
        "\n"
      ]
    },
    {
      "cell_type": "code",
      "metadata": {
        "id": "6IhKVYJ24xVn",
        "outputId": "e1b4038e-aafa-490e-b37f-ab63e0691530",
        "colab": {
          "base_uri": "https://localhost:8080/",
          "height": 34
        }
      },
      "source": [
        "# YOUR CODE HERE for data cleaning\n",
        "\n",
        "#result.isnull().sum()\n",
        "result = result.dropna(subset=['overall_lit'])\n",
        "result.shape"
      ],
      "execution_count": null,
      "outputs": [
        {
          "output_type": "execute_result",
          "data": {
            "text/plain": [
              "(1268, 200)"
            ]
          },
          "metadata": {
            "tags": []
          },
          "execution_count": 90
        }
      ]
    },
    {
      "cell_type": "code",
      "metadata": {
        "id": "org9KBVd7Mpk"
      },
      "source": [
        "result = result.loc[:,~result.columns.duplicated()]\n"
      ],
      "execution_count": null,
      "outputs": []
    },
    {
      "cell_type": "code",
      "metadata": {
        "id": "zEom3yWatW-g",
        "outputId": "55dee077-fa58-4b8d-e5e8-983355286b3e",
        "colab": {
          "base_uri": "https://localhost:8080/",
          "height": 692
        }
      },
      "source": [
        "from sklearn import preprocessing\n",
        "le = preprocessing.LabelEncoder()\n",
        "\n",
        "result['statename'] = le.fit_transform(result['statename'])\n",
        "result['distname'] = le.fit_transform(result['distname'])\n",
        "result['overall_lit'] = le.fit_transform(result['overall_lit'])\n",
        "\n",
        "result.head()"
      ],
      "execution_count": null,
      "outputs": [
        {
          "output_type": "stream",
          "text": [
            "/usr/local/lib/python3.6/dist-packages/ipykernel_launcher.py:4: SettingWithCopyWarning: \n",
            "A value is trying to be set on a copy of a slice from a DataFrame.\n",
            "Try using .loc[row_indexer,col_indexer] = value instead\n",
            "\n",
            "See the caveats in the documentation: https://pandas.pydata.org/pandas-docs/stable/user_guide/indexing.html#returning-a-view-versus-a-copy\n",
            "  after removing the cwd from sys.path.\n",
            "/usr/local/lib/python3.6/dist-packages/ipykernel_launcher.py:5: SettingWithCopyWarning: \n",
            "A value is trying to be set on a copy of a slice from a DataFrame.\n",
            "Try using .loc[row_indexer,col_indexer] = value instead\n",
            "\n",
            "See the caveats in the documentation: https://pandas.pydata.org/pandas-docs/stable/user_guide/indexing.html#returning-a-view-versus-a-copy\n",
            "  \"\"\"\n",
            "/usr/local/lib/python3.6/dist-packages/ipykernel_launcher.py:6: SettingWithCopyWarning: \n",
            "A value is trying to be set on a copy of a slice from a DataFrame.\n",
            "Try using .loc[row_indexer,col_indexer] = value instead\n",
            "\n",
            "See the caveats in the documentation: https://pandas.pydata.org/pandas-docs/stable/user_guide/indexing.html#returning-a-view-versus-a-copy\n",
            "  \n"
          ],
          "name": "stderr"
        },
        {
          "output_type": "execute_result",
          "data": {
            "text/html": [
              "<div>\n",
              "<style scoped>\n",
              "    .dataframe tbody tr th:only-of-type {\n",
              "        vertical-align: middle;\n",
              "    }\n",
              "\n",
              "    .dataframe tbody tr th {\n",
              "        vertical-align: top;\n",
              "    }\n",
              "\n",
              "    .dataframe thead th {\n",
              "        text-align: right;\n",
              "    }\n",
              "</style>\n",
              "<table border=\"1\" class=\"dataframe\">\n",
              "  <thead>\n",
              "    <tr style=\"text-align: right;\">\n",
              "      <th></th>\n",
              "      <th>Year</th>\n",
              "      <th>State Code</th>\n",
              "      <th>statename</th>\n",
              "      <th>District Code</th>\n",
              "      <th>distname</th>\n",
              "      <th>blocks</th>\n",
              "      <th>clusters</th>\n",
              "      <th>villages</th>\n",
              "      <th>totschools</th>\n",
              "      <th>totpopulation</th>\n",
              "      <th>p_06_pop</th>\n",
              "      <th>p_urb_pop</th>\n",
              "      <th>sexratio</th>\n",
              "      <th>sexratio_06</th>\n",
              "      <th>growthrate</th>\n",
              "      <th>p_sc_pop</th>\n",
              "      <th>p_st_pop</th>\n",
              "      <th>overall_lit</th>\n",
              "      <th>female_lit</th>\n",
              "      <th>tch_govt1</th>\n",
              "      <th>tch_govt2</th>\n",
              "      <th>tch_govt3</th>\n",
              "      <th>tch_govt4</th>\n",
              "      <th>tch_govt5</th>\n",
              "      <th>tch_govt6</th>\n",
              "      <th>tch_govt7</th>\n",
              "      <th>tch_govt9</th>\n",
              "      <th>tch_pvt1</th>\n",
              "      <th>tch_pvt2</th>\n",
              "      <th>tch_pvt3</th>\n",
              "      <th>tch_pvt4</th>\n",
              "      <th>tch_pvt5</th>\n",
              "      <th>tch_pvt6</th>\n",
              "      <th>tch_pvt7</th>\n",
              "      <th>tch_pvt9</th>\n",
              "      <th>tch_un1</th>\n",
              "      <th>tch_un2</th>\n",
              "      <th>tch_un3</th>\n",
              "      <th>tch_un4</th>\n",
              "      <th>tch_un5</th>\n",
              "      <th>...</th>\n",
              "      <th>tch_sc_m7</th>\n",
              "      <th>tch_sc_f1</th>\n",
              "      <th>tch_sc_f2</th>\n",
              "      <th>tch_sc_f3</th>\n",
              "      <th>tch_sc_f4</th>\n",
              "      <th>tch_sc_f5</th>\n",
              "      <th>tch_sc_f6</th>\n",
              "      <th>tch_sc_f7</th>\n",
              "      <th>tch_st_m1</th>\n",
              "      <th>tch_st_m2</th>\n",
              "      <th>tch_st_m3</th>\n",
              "      <th>tch_st_m4</th>\n",
              "      <th>tch_st_m5</th>\n",
              "      <th>tch_st_m6</th>\n",
              "      <th>tch_st_m7</th>\n",
              "      <th>tch_st_f1</th>\n",
              "      <th>tch_st_f2</th>\n",
              "      <th>tch_st_f3</th>\n",
              "      <th>tch_st_f4</th>\n",
              "      <th>tch_st_f5</th>\n",
              "      <th>tch_st_f6</th>\n",
              "      <th>tch_st_f7</th>\n",
              "      <th>trn_tch_m1</th>\n",
              "      <th>trn_tch_m2</th>\n",
              "      <th>trn_tch_m3</th>\n",
              "      <th>trn_tch_m4</th>\n",
              "      <th>trn_tch_m5</th>\n",
              "      <th>trn_tch_m6</th>\n",
              "      <th>trn_tch_m7</th>\n",
              "      <th>trn_tch_f1</th>\n",
              "      <th>trn_tch_f2</th>\n",
              "      <th>trn_tch_f3</th>\n",
              "      <th>trn_tch_f4</th>\n",
              "      <th>trn_tch_f5</th>\n",
              "      <th>trn_tch_f6</th>\n",
              "      <th>trn_tch_f7</th>\n",
              "      <th>prof_trn_tch_r</th>\n",
              "      <th>prof_trn_tch_p</th>\n",
              "      <th>days_nontch</th>\n",
              "      <th>tch_nontch</th>\n",
              "    </tr>\n",
              "    <tr>\n",
              "      <th>info</th>\n",
              "      <th></th>\n",
              "      <th></th>\n",
              "      <th></th>\n",
              "      <th></th>\n",
              "      <th></th>\n",
              "      <th></th>\n",
              "      <th></th>\n",
              "      <th></th>\n",
              "      <th></th>\n",
              "      <th></th>\n",
              "      <th></th>\n",
              "      <th></th>\n",
              "      <th></th>\n",
              "      <th></th>\n",
              "      <th></th>\n",
              "      <th></th>\n",
              "      <th></th>\n",
              "      <th></th>\n",
              "      <th></th>\n",
              "      <th></th>\n",
              "      <th></th>\n",
              "      <th></th>\n",
              "      <th></th>\n",
              "      <th></th>\n",
              "      <th></th>\n",
              "      <th></th>\n",
              "      <th></th>\n",
              "      <th></th>\n",
              "      <th></th>\n",
              "      <th></th>\n",
              "      <th></th>\n",
              "      <th></th>\n",
              "      <th></th>\n",
              "      <th></th>\n",
              "      <th></th>\n",
              "      <th></th>\n",
              "      <th></th>\n",
              "      <th></th>\n",
              "      <th></th>\n",
              "      <th></th>\n",
              "      <th></th>\n",
              "      <th></th>\n",
              "      <th></th>\n",
              "      <th></th>\n",
              "      <th></th>\n",
              "      <th></th>\n",
              "      <th></th>\n",
              "      <th></th>\n",
              "      <th></th>\n",
              "      <th></th>\n",
              "      <th></th>\n",
              "      <th></th>\n",
              "      <th></th>\n",
              "      <th></th>\n",
              "      <th></th>\n",
              "      <th></th>\n",
              "      <th></th>\n",
              "      <th></th>\n",
              "      <th></th>\n",
              "      <th></th>\n",
              "      <th></th>\n",
              "      <th></th>\n",
              "      <th></th>\n",
              "      <th></th>\n",
              "      <th></th>\n",
              "      <th></th>\n",
              "      <th></th>\n",
              "      <th></th>\n",
              "      <th></th>\n",
              "      <th></th>\n",
              "      <th></th>\n",
              "      <th></th>\n",
              "      <th></th>\n",
              "      <th></th>\n",
              "      <th></th>\n",
              "      <th></th>\n",
              "      <th></th>\n",
              "      <th></th>\n",
              "      <th></th>\n",
              "      <th></th>\n",
              "      <th></th>\n",
              "    </tr>\n",
              "  </thead>\n",
              "  <tbody>\n",
              "    <tr>\n",
              "      <th>2012-13353501</th>\n",
              "      <td>2012-13</td>\n",
              "      <td>35</td>\n",
              "      <td>0</td>\n",
              "      <td>3501</td>\n",
              "      <td>21</td>\n",
              "      <td>3</td>\n",
              "      <td>16</td>\n",
              "      <td>83</td>\n",
              "      <td>212</td>\n",
              "      <td>237586.0</td>\n",
              "      <td>23616.05</td>\n",
              "      <td>55.89</td>\n",
              "      <td>874.0</td>\n",
              "      <td>980.0</td>\n",
              "      <td>13.97</td>\n",
              "      <td>0.00</td>\n",
              "      <td>1.72</td>\n",
              "      <td>0</td>\n",
              "      <td>84.52</td>\n",
              "      <td>329</td>\n",
              "      <td>429</td>\n",
              "      <td>1097</td>\n",
              "      <td>0</td>\n",
              "      <td>127</td>\n",
              "      <td>432</td>\n",
              "      <td>0</td>\n",
              "      <td>0</td>\n",
              "      <td>308</td>\n",
              "      <td>117</td>\n",
              "      <td>317</td>\n",
              "      <td>0</td>\n",
              "      <td>0</td>\n",
              "      <td>83</td>\n",
              "      <td>0</td>\n",
              "      <td>0</td>\n",
              "      <td>0</td>\n",
              "      <td>0</td>\n",
              "      <td>0</td>\n",
              "      <td>0</td>\n",
              "      <td>0</td>\n",
              "      <td>...</td>\n",
              "      <td>0</td>\n",
              "      <td>0</td>\n",
              "      <td>0</td>\n",
              "      <td>1</td>\n",
              "      <td>0</td>\n",
              "      <td>0</td>\n",
              "      <td>0</td>\n",
              "      <td>0</td>\n",
              "      <td>4</td>\n",
              "      <td>3</td>\n",
              "      <td>16</td>\n",
              "      <td>0</td>\n",
              "      <td>0</td>\n",
              "      <td>8</td>\n",
              "      <td>0</td>\n",
              "      <td>11</td>\n",
              "      <td>5</td>\n",
              "      <td>18</td>\n",
              "      <td>0</td>\n",
              "      <td>1</td>\n",
              "      <td>11</td>\n",
              "      <td>0</td>\n",
              "      <td>69</td>\n",
              "      <td>97</td>\n",
              "      <td>64</td>\n",
              "      <td>0</td>\n",
              "      <td>14</td>\n",
              "      <td>66</td>\n",
              "      <td>0</td>\n",
              "      <td>134</td>\n",
              "      <td>176</td>\n",
              "      <td>135</td>\n",
              "      <td>0</td>\n",
              "      <td>22</td>\n",
              "      <td>103</td>\n",
              "      <td>0</td>\n",
              "      <td>2968</td>\n",
              "      <td>228</td>\n",
              "      <td>12</td>\n",
              "      <td>519</td>\n",
              "    </tr>\n",
              "    <tr>\n",
              "      <th>2012-13353503</th>\n",
              "      <td>2012-13</td>\n",
              "      <td>35</td>\n",
              "      <td>0</td>\n",
              "      <td>3503</td>\n",
              "      <td>382</td>\n",
              "      <td>3</td>\n",
              "      <td>13</td>\n",
              "      <td>76</td>\n",
              "      <td>181</td>\n",
              "      <td>105539.0</td>\n",
              "      <td>11651.51</td>\n",
              "      <td>2.60</td>\n",
              "      <td>925.0</td>\n",
              "      <td>975.0</td>\n",
              "      <td>-0.07</td>\n",
              "      <td>0.00</td>\n",
              "      <td>0.72</td>\n",
              "      <td>0</td>\n",
              "      <td>79.39</td>\n",
              "      <td>305</td>\n",
              "      <td>285</td>\n",
              "      <td>194</td>\n",
              "      <td>95</td>\n",
              "      <td>268</td>\n",
              "      <td>175</td>\n",
              "      <td>0</td>\n",
              "      <td>0</td>\n",
              "      <td>103</td>\n",
              "      <td>31</td>\n",
              "      <td>0</td>\n",
              "      <td>0</td>\n",
              "      <td>0</td>\n",
              "      <td>15</td>\n",
              "      <td>0</td>\n",
              "      <td>0</td>\n",
              "      <td>0</td>\n",
              "      <td>0</td>\n",
              "      <td>0</td>\n",
              "      <td>0</td>\n",
              "      <td>0</td>\n",
              "      <td>...</td>\n",
              "      <td>0</td>\n",
              "      <td>1</td>\n",
              "      <td>1</td>\n",
              "      <td>0</td>\n",
              "      <td>0</td>\n",
              "      <td>0</td>\n",
              "      <td>0</td>\n",
              "      <td>0</td>\n",
              "      <td>0</td>\n",
              "      <td>1</td>\n",
              "      <td>6</td>\n",
              "      <td>2</td>\n",
              "      <td>7</td>\n",
              "      <td>0</td>\n",
              "      <td>0</td>\n",
              "      <td>2</td>\n",
              "      <td>2</td>\n",
              "      <td>3</td>\n",
              "      <td>0</td>\n",
              "      <td>4</td>\n",
              "      <td>2</td>\n",
              "      <td>0</td>\n",
              "      <td>126</td>\n",
              "      <td>79</td>\n",
              "      <td>32</td>\n",
              "      <td>8</td>\n",
              "      <td>45</td>\n",
              "      <td>37</td>\n",
              "      <td>0</td>\n",
              "      <td>84</td>\n",
              "      <td>85</td>\n",
              "      <td>40</td>\n",
              "      <td>3</td>\n",
              "      <td>28</td>\n",
              "      <td>60</td>\n",
              "      <td>0</td>\n",
              "      <td>1249</td>\n",
              "      <td>203</td>\n",
              "      <td>8</td>\n",
              "      <td>362</td>\n",
              "    </tr>\n",
              "    <tr>\n",
              "      <th>2012-13353502</th>\n",
              "      <td>2012-13</td>\n",
              "      <td>35</td>\n",
              "      <td>0</td>\n",
              "      <td>3502</td>\n",
              "      <td>422</td>\n",
              "      <td>3</td>\n",
              "      <td>8</td>\n",
              "      <td>42</td>\n",
              "      <td>58</td>\n",
              "      <td>36819.0</td>\n",
              "      <td>4226.82</td>\n",
              "      <td>0.00</td>\n",
              "      <td>778.0</td>\n",
              "      <td>961.0</td>\n",
              "      <td>-12.48</td>\n",
              "      <td>0.00</td>\n",
              "      <td>64.28</td>\n",
              "      <td>0</td>\n",
              "      <td>70.70</td>\n",
              "      <td>110</td>\n",
              "      <td>95</td>\n",
              "      <td>56</td>\n",
              "      <td>0</td>\n",
              "      <td>135</td>\n",
              "      <td>114</td>\n",
              "      <td>0</td>\n",
              "      <td>0</td>\n",
              "      <td>8</td>\n",
              "      <td>0</td>\n",
              "      <td>0</td>\n",
              "      <td>0</td>\n",
              "      <td>0</td>\n",
              "      <td>0</td>\n",
              "      <td>0</td>\n",
              "      <td>0</td>\n",
              "      <td>0</td>\n",
              "      <td>0</td>\n",
              "      <td>0</td>\n",
              "      <td>0</td>\n",
              "      <td>0</td>\n",
              "      <td>...</td>\n",
              "      <td>0</td>\n",
              "      <td>0</td>\n",
              "      <td>0</td>\n",
              "      <td>0</td>\n",
              "      <td>0</td>\n",
              "      <td>0</td>\n",
              "      <td>0</td>\n",
              "      <td>0</td>\n",
              "      <td>33</td>\n",
              "      <td>29</td>\n",
              "      <td>18</td>\n",
              "      <td>0</td>\n",
              "      <td>27</td>\n",
              "      <td>27</td>\n",
              "      <td>0</td>\n",
              "      <td>53</td>\n",
              "      <td>32</td>\n",
              "      <td>16</td>\n",
              "      <td>0</td>\n",
              "      <td>28</td>\n",
              "      <td>40</td>\n",
              "      <td>0</td>\n",
              "      <td>36</td>\n",
              "      <td>25</td>\n",
              "      <td>18</td>\n",
              "      <td>0</td>\n",
              "      <td>22</td>\n",
              "      <td>31</td>\n",
              "      <td>0</td>\n",
              "      <td>58</td>\n",
              "      <td>29</td>\n",
              "      <td>23</td>\n",
              "      <td>0</td>\n",
              "      <td>17</td>\n",
              "      <td>46</td>\n",
              "      <td>0</td>\n",
              "      <td>430</td>\n",
              "      <td>78</td>\n",
              "      <td>20</td>\n",
              "      <td>28</td>\n",
              "    </tr>\n",
              "    <tr>\n",
              "      <th>2012-13282801</th>\n",
              "      <td>2012-13</td>\n",
              "      <td>28</td>\n",
              "      <td>1</td>\n",
              "      <td>2801</td>\n",
              "      <td>0</td>\n",
              "      <td>52</td>\n",
              "      <td>356</td>\n",
              "      <td>1576</td>\n",
              "      <td>4983</td>\n",
              "      <td>2737738.0</td>\n",
              "      <td>295675.70</td>\n",
              "      <td>27.68</td>\n",
              "      <td>1003.0</td>\n",
              "      <td>942.0</td>\n",
              "      <td>10.04</td>\n",
              "      <td>17.82</td>\n",
              "      <td>18.09</td>\n",
              "      <td>1</td>\n",
              "      <td>51.99</td>\n",
              "      <td>4749</td>\n",
              "      <td>1788</td>\n",
              "      <td>38</td>\n",
              "      <td>0</td>\n",
              "      <td>22</td>\n",
              "      <td>939</td>\n",
              "      <td>4309</td>\n",
              "      <td>0</td>\n",
              "      <td>2004</td>\n",
              "      <td>2298</td>\n",
              "      <td>0</td>\n",
              "      <td>0</td>\n",
              "      <td>0</td>\n",
              "      <td>327</td>\n",
              "      <td>2222</td>\n",
              "      <td>0</td>\n",
              "      <td>214</td>\n",
              "      <td>82</td>\n",
              "      <td>0</td>\n",
              "      <td>0</td>\n",
              "      <td>0</td>\n",
              "      <td>...</td>\n",
              "      <td>621</td>\n",
              "      <td>401</td>\n",
              "      <td>252</td>\n",
              "      <td>4</td>\n",
              "      <td>0</td>\n",
              "      <td>0</td>\n",
              "      <td>37</td>\n",
              "      <td>294</td>\n",
              "      <td>1447</td>\n",
              "      <td>394</td>\n",
              "      <td>1</td>\n",
              "      <td>0</td>\n",
              "      <td>1</td>\n",
              "      <td>409</td>\n",
              "      <td>260</td>\n",
              "      <td>288</td>\n",
              "      <td>126</td>\n",
              "      <td>1</td>\n",
              "      <td>0</td>\n",
              "      <td>0</td>\n",
              "      <td>187</td>\n",
              "      <td>146</td>\n",
              "      <td>1964</td>\n",
              "      <td>554</td>\n",
              "      <td>0</td>\n",
              "      <td>0</td>\n",
              "      <td>0</td>\n",
              "      <td>46</td>\n",
              "      <td>641</td>\n",
              "      <td>830</td>\n",
              "      <td>267</td>\n",
              "      <td>0</td>\n",
              "      <td>0</td>\n",
              "      <td>0</td>\n",
              "      <td>8</td>\n",
              "      <td>248</td>\n",
              "      <td>16419</td>\n",
              "      <td>845</td>\n",
              "      <td>13</td>\n",
              "      <td>263</td>\n",
              "    </tr>\n",
              "    <tr>\n",
              "      <th>2012-13282822</th>\n",
              "      <td>2012-13</td>\n",
              "      <td>28</td>\n",
              "      <td>1</td>\n",
              "      <td>2822</td>\n",
              "      <td>19</td>\n",
              "      <td>63</td>\n",
              "      <td>564</td>\n",
              "      <td>929</td>\n",
              "      <td>5188</td>\n",
              "      <td>4083315.0</td>\n",
              "      <td>427114.75</td>\n",
              "      <td>28.09</td>\n",
              "      <td>977.0</td>\n",
              "      <td>927.0</td>\n",
              "      <td>12.16</td>\n",
              "      <td>14.29</td>\n",
              "      <td>3.78</td>\n",
              "      <td>1</td>\n",
              "      <td>54.31</td>\n",
              "      <td>5797</td>\n",
              "      <td>2879</td>\n",
              "      <td>209</td>\n",
              "      <td>8</td>\n",
              "      <td>6733</td>\n",
              "      <td>2</td>\n",
              "      <td>52</td>\n",
              "      <td>0</td>\n",
              "      <td>2063</td>\n",
              "      <td>2184</td>\n",
              "      <td>106</td>\n",
              "      <td>0</td>\n",
              "      <td>2307</td>\n",
              "      <td>0</td>\n",
              "      <td>41</td>\n",
              "      <td>0</td>\n",
              "      <td>52</td>\n",
              "      <td>97</td>\n",
              "      <td>0</td>\n",
              "      <td>0</td>\n",
              "      <td>8</td>\n",
              "      <td>...</td>\n",
              "      <td>1</td>\n",
              "      <td>457</td>\n",
              "      <td>236</td>\n",
              "      <td>12</td>\n",
              "      <td>0</td>\n",
              "      <td>444</td>\n",
              "      <td>1</td>\n",
              "      <td>4</td>\n",
              "      <td>281</td>\n",
              "      <td>143</td>\n",
              "      <td>5</td>\n",
              "      <td>0</td>\n",
              "      <td>210</td>\n",
              "      <td>0</td>\n",
              "      <td>3</td>\n",
              "      <td>136</td>\n",
              "      <td>69</td>\n",
              "      <td>3</td>\n",
              "      <td>0</td>\n",
              "      <td>139</td>\n",
              "      <td>0</td>\n",
              "      <td>0</td>\n",
              "      <td>2521</td>\n",
              "      <td>1161</td>\n",
              "      <td>2</td>\n",
              "      <td>0</td>\n",
              "      <td>1226</td>\n",
              "      <td>0</td>\n",
              "      <td>10</td>\n",
              "      <td>1652</td>\n",
              "      <td>726</td>\n",
              "      <td>0</td>\n",
              "      <td>0</td>\n",
              "      <td>591</td>\n",
              "      <td>0</td>\n",
              "      <td>3</td>\n",
              "      <td>21487</td>\n",
              "      <td>676</td>\n",
              "      <td>14</td>\n",
              "      <td>1185</td>\n",
              "    </tr>\n",
              "  </tbody>\n",
              "</table>\n",
              "<p>5 rows × 195 columns</p>\n",
              "</div>"
            ],
            "text/plain": [
              "                  Year  State Code  ...  days_nontch  tch_nontch\n",
              "info                                ...                         \n",
              "2012-13353501  2012-13          35  ...           12         519\n",
              "2012-13353503  2012-13          35  ...            8         362\n",
              "2012-13353502  2012-13          35  ...           20          28\n",
              "2012-13282801  2012-13          28  ...           13         263\n",
              "2012-13282822  2012-13          28  ...           14        1185\n",
              "\n",
              "[5 rows x 195 columns]"
            ]
          },
          "metadata": {
            "tags": []
          },
          "execution_count": 94
        }
      ]
    },
    {
      "cell_type": "code",
      "metadata": {
        "id": "hODk6vm0BoR4"
      },
      "source": [
        "result = result.drop(columns='Year')"
      ],
      "execution_count": null,
      "outputs": []
    },
    {
      "cell_type": "code",
      "metadata": {
        "id": "qh7z_Qvzt4b-",
        "outputId": "ab1bd8aa-a7ab-4a1d-947b-24c66136a687",
        "colab": {
          "base_uri": "https://localhost:8080/",
          "height": 54
        }
      },
      "source": [
        "values = {}\n",
        "for i in result.columns:\n",
        "  values[i]=result[i].mean()\n",
        "print(values)\n",
        "result=result.fillna(value=values)"
      ],
      "execution_count": null,
      "outputs": [
        {
          "output_type": "stream",
          "text": [
            "{'State Code': 17.033123028391167, 'statename': 19.644321766561514, 'District Code': 1719.4179810725552, 'distname': 317.66009463722395, 'blocks': 11.115930599369085, 'clusters': 128.6955835962145, 'villages': 912.1175078864353, 'totschools': 2207.024447949527, 'totpopulation': 1899024.1324921136, 'p_06_pop': 251190.74210110572, 'p_urb_pop': 24.819255150554696, 'sexratio': 942.6782334384858, 'sexratio_06': 918.8135860979463, 'growthrate': 17.6278864353312, 'p_sc_pop': 14.830015923566897, 'p_st_pop': 17.625031847133766, 'overall_lit': 0.944794952681388, 'female_lit': 64.61935331230288, 'tch_govt1': 3084.332807570978, 'tch_govt2': 1766.9392744479496, 'tch_govt3': 155.03864353312304, 'tch_govt4': 617.8824921135647, 'tch_govt5': 806.179022082019, 'tch_govt6': 159.47791798107255, 'tch_govt7': 420.55047318611986, 'tch_govt9': 0.5047318611987381, 'tch_pvt1': 898.6317034700315, 'tch_pvt2': 1084.2421135646687, 'tch_pvt3': 830.4266561514196, 'tch_pvt4': 201.5993690851735, 'tch_pvt5': 507.14668769716087, 'tch_pvt6': 430.16246056782336, 'tch_pvt7': 319.48501577287067, 'tch_pvt9': 0.14589905362776026, 'tch_un1': 117.14668769716089, 'tch_un2': 110.37066246056783, 'tch_un3': 27.781545741324923, 'tch_un4': 10.475552050473187, 'tch_un5': 12.908517350157728, 'tch_un6': 28.974763406940063, 'tch_un7': 8.482649842271293, 'tch_un9': 0.07334384858044164, 'tch_bs1': 94.45031545741325, 'tch_bs2': 65.45110410094637, 'tch_bs3': 12.773659305993691, 'tch_bs4': 15.611198738170348, 'tch_bs5': 6.391167192429022, 'tch_bs6': 10.980283911671924, 'tch_bs7': 4.692429022082019, 'tch_bs_p': 13.019716088328076, 'tch_s1': 535.7239747634069, 'tch_s2': 413.0378548895899, 'tch_s3': 34.86671924290221, 'tch_s4': 41.41561514195583, 'tch_s5': 50.51577287066246, 'tch_s6': 33.66403785488959, 'tch_s7': 37.2602523659306, 'tch_s_p': 52.198738170347006, 'tch_hs1': 1026.8517350157729, 'tch_hs2': 762.7768138801262, 'tch_hs3': 88.09779179810725, 'tch_hs4': 149.62460567823345, 'tch_hs5': 77.08280757097792, 'tch_hs6': 91.69085173501577, 'tch_hs7': 56.66482649842271, 'tch_hs_p': 212.16640378548897, 'tch_grad1': 1281.1529968454258, 'tch_grad2': 1054.9858044164039, 'tch_grad3': 395.2854889589905, 'tch_grad4': 312.7602523659306, 'tch_grad5': 448.3556782334385, 'tch_grad6': 287.9929022082019, 'tch_grad7': 369.3824921135647, 'tch_grad_p': 371.2381703470032, 'tch_pgrad1': 654.25, 'tch_pgrad2': 493.54337539432174, 'tch_pgrad3': 418.48107255520506, 'tch_pgrad4': 264.8320189274448, 'tch_pgrad5': 621.3832807570977, 'tch_pgrad6': 156.23659305993692, 'tch_pgrad7': 243.41167192429023, 'tch_pgrad_p': 146.69479495268138, 'tch_mph1': 23.77365930599369, 'tch_mph2': 24.107255520504733, 'tch_mph3': 26.845425867507885, 'tch_mph4': 6.284700315457413, 'tch_mph5': 59.67981072555205, 'tch_mph6': 6.865930599369086, 'tch_mph7': 8.25, 'tch_mph_p': 5.193217665615142, 'tch_pd1': 0.41719242902208203, 'tch_pd2': 0.3824921135646688, 'tch_pd3': 0.5165615141955836, 'tch_pd4': 0.16640378548895898, 'tch_pd5': 0.7649842271293376, 'tch_pd6': 0.1411671924290221, 'tch_pd7': 0.17271293375394323, 'tch_pd_p': 0.11041009463722397, 'tch_eduqual_nr1': 6.250788643533123, 'tch_eduqual_nr2': 8.709779179810726, 'tch_eduqual_nr3': 3.7602523659305995, 'tch_eduqual_nr4': 2.777602523659306, 'tch_eduqual_nr5': 3.3667192429022084, 'tch_eduqual_nr6': 1.529179810725552, 'tch_eduqual_nr7': 0.8399053627760252, 'tch_eduqual_nr_p': 0.3430599369085173, 'tch_m1': 1932.4195583596215, 'tch_m2': 1435.7578864353313, 'tch_m3': 329.6435331230284, 'tch_m4': 537.0875394321766, 'tch_m5': 748.0102523659306, 'tch_m6': 271.4597791798107, 'tch_m7': 458.05835962145113, 'tch_f1': 1681.8020504731862, 'tch_f2': 1382.2326498422713, 'tch_f3': 643.3556782334385, 'tch_f4': 250.17586750788644, 'tch_f5': 508.42981072555204, 'tch_f6': 316.02681388012616, 'tch_f7': 260.8343848580442, 'tch_nr1': 8.649053627760253, 'tch_nr2': 5.005520504731861, 'tch_nr3': 7.62776025236593, 'tch_nr4': 6.208990536277603, 'tch_nr5': 11.100157728706625, 'tch_nr6': 1.614353312302839, 'tch_nr7': 1.7815457413249212, 'tch_m_p1': 240.23501577287067, 'tch_m_p2': 84.97003154574132, 'tch_m_p3': 10.141955835962145, 'tch_m_p4': 19.756309148264986, 'tch_m_p5': 27.352523659305994, 'tch_m_p6': 14.36198738170347, 'tch_m_p7': 12.320977917981072, 'tch_f_p1': 236.97870662460568, 'tch_f_p2': 53.58123028391167, 'tch_f_p3': 22.474763406940063, 'tch_f_p4': 16.71608832807571, 'tch_f_p5': 31.33832807570978, 'tch_f_p6': 15.152208201892744, 'tch_f_p7': 15.520504731861198, 'tch_nr_p1': 0.021293375394321766, 'tch_nr_p2': 0.003943217665615142, 'tch_nr_p3': 0.002365930599369085, 'tch_nr_p4': 0.012618296529968454, 'tch_nr_p5': 0.0031545741324921135, 'tch_nr_p6': 0.0, 'tch_nr_p7': 0.002365930599369085, 'tch_sc_m1': 346.57807570977917, 'tch_sc_m2': 200.11041009463722, 'tch_sc_m3': 35.35804416403786, 'tch_sc_m4': 79.57097791798107, 'tch_sc_m5': 115.56466876971609, 'tch_sc_m6': 32.723186119873816, 'tch_sc_m7': 58.33280757097792, 'tch_sc_f1': 238.82334384858044, 'tch_sc_f2': 144.64589905362777, 'tch_sc_f3': 43.26419558359621, 'tch_sc_f4': 33.170347003154575, 'tch_sc_f5': 66.20977917981072, 'tch_sc_f6': 23.255520504731862, 'tch_sc_f7': 30.94242902208202, 'tch_st_m1': 278.9668769716088, 'tch_st_m2': 148.83832807570977, 'tch_st_m3': 15.999211356466876, 'tch_st_m4': 67.25394321766562, 'tch_st_m5': 32.43454258675079, 'tch_st_m6': 30.792586750788644, 'tch_st_m7': 32.103312302839115, 'tch_st_f1': 162.3493690851735, 'tch_st_f2': 101.93769716088327, 'tch_st_f3': 16.96608832807571, 'tch_st_f4': 34.80757097791798, 'tch_st_f5': 16.980283911671926, 'tch_st_f6': 22.638801261829652, 'tch_st_f7': 15.523659305993691, 'trn_tch_m1': 688.9053627760252, 'trn_tch_m2': 474.91324921135646, 'trn_tch_m3': 16.925867507886434, 'trn_tch_m4': 119.24132492113564, 'trn_tch_m5': 102.11435331230284, 'trn_tch_m6': 20.54652996845426, 'trn_tch_m7': 71.52760252365931, 'trn_tch_f1': 570.1892744479495, 'trn_tch_f2': 436.7712933753943, 'trn_tch_f3': 32.23580441640379, 'trn_tch_f4': 63.8391167192429, 'trn_tch_f5': 85.38091482649843, 'trn_tch_f6': 18.529968454258675, 'trn_tch_f7': 41.01656151419559, 'prof_trn_tch_r': 8558.58359621451, 'prof_trn_tch_p': 435.8627760252366, 'days_nontch': 17.541009463722396, 'tch_nontch': 464.9077287066246}\n"
          ],
          "name": "stdout"
        }
      ]
    },
    {
      "cell_type": "markdown",
      "metadata": {
        "id": "SzsY-knQKMtI"
      },
      "source": [
        "## Exercise 4 - (3 Marks)\n",
        "\n",
        "1. Remove the unneccesary columns which are not contributing to the overall literacy rate\n",
        "\n",
        "2. Verify if there are any duplicate columns and remove them.\n",
        "\n",
        "  For example: state name and district name are same as state code and district code.\n",
        "\n",
        "3. Make sure that the final dataframe has no null or nan values. Delete the rows with missing values.\n",
        "\n",
        "   Hint: Give df.isna() to verify on the nan values in the dataframe. "
      ]
    },
    {
      "cell_type": "code",
      "metadata": {
        "id": "-hU2poUeKMtT",
        "outputId": "7353144c-6862-4caf-a1b8-36fe12cc5bc5",
        "colab": {
          "base_uri": "https://localhost:8080/",
          "height": 221
        }
      },
      "source": [
        "# YOUR CODE HERE for cleaning the dataframe\n",
        "result.isna().sum()"
      ],
      "execution_count": null,
      "outputs": [
        {
          "output_type": "execute_result",
          "data": {
            "text/plain": [
              "State Code        0\n",
              "statename         0\n",
              "District Code     0\n",
              "distname          0\n",
              "blocks            0\n",
              "                 ..\n",
              "trn_tch_f7        0\n",
              "prof_trn_tch_r    0\n",
              "prof_trn_tch_p    0\n",
              "days_nontch       0\n",
              "tch_nontch        0\n",
              "Length: 194, dtype: int64"
            ]
          },
          "metadata": {
            "tags": []
          },
          "execution_count": 98
        }
      ]
    },
    {
      "cell_type": "code",
      "metadata": {
        "id": "xKsaJ7z8DEpt"
      },
      "source": [
        "result.drop(['statename', 'distname'], axis=1, inplace=True)"
      ],
      "execution_count": null,
      "outputs": []
    },
    {
      "cell_type": "code",
      "metadata": {
        "id": "ZAy0vXjbENeI",
        "outputId": "d3ceac0d-643e-4bdd-9c29-71007c4e516b",
        "colab": {
          "base_uri": "https://localhost:8080/",
          "height": 34
        }
      },
      "source": [
        "result.shape"
      ],
      "execution_count": null,
      "outputs": [
        {
          "output_type": "execute_result",
          "data": {
            "text/plain": [
              "(1268, 192)"
            ]
          },
          "metadata": {
            "tags": []
          },
          "execution_count": 100
        }
      ]
    },
    {
      "cell_type": "markdown",
      "metadata": {
        "id": "cJo0t2403sf7"
      },
      "source": [
        "## Exercise 5 - Apply Correlation Matrix (2 Marks)\n",
        "\n",
        "Correlation is a statistical technique that can show whether and how strongly pairs of variables are related. More number of features does not imply better accuracy. More features may lead to a decline in the accuracy and create noise in the model, if they contain any irrelevant features.\n",
        "\n",
        "*Features with high correlation value will imply the same meaning. Hence removing the highly correlated features*"
      ]
    },
    {
      "cell_type": "markdown",
      "metadata": {
        "id": "KLRn2Zv-pwdR"
      },
      "source": [
        "**Function Description:**\n",
        "\n",
        "`remove_Highly_Correlated()` function removes highly correlated features in the dataframe.\n",
        "- Creates a correlation matrix of row and column wise features\n",
        "- Extracts only uppertriangular matrix as correlation matrix, which will have the same values below and above the diagonal\n",
        "- Removes columns which are having correlation value more than the threshold value."
      ]
    },
    {
      "cell_type": "code",
      "metadata": {
        "id": "kEN36Fj0o2TQ"
      },
      "source": [
        "def remove_Highly_Correlated(df, bar=0.9):\n",
        "  # Creates correlation matrix\n",
        "  corr = df.corr()\n",
        "\n",
        "  # Set Up Mask To Hide Upper Triangle\n",
        "  mask = np.triu(np.ones_like(corr, dtype=bool))\n",
        "  tri_df = corr.mask(mask)\n",
        "\n",
        "  # Finding features with correlation value more than specified threshold value (bar=0.9)\n",
        "  highly_cor_col = [col for col in tri_df.columns if any(tri_df[col] > bar )]\n",
        "  print(\"length of highly correlated columns\",len(highly_cor_col))\n",
        "\n",
        "  # Drop the highly correlated columns\n",
        "  reduced_df = result.drop(highly_cor_col, axis = 1)\n",
        "  print(\"shape of total data\",result.shape,\"shape of reduced data\",reduced_df.shape)\n",
        "  return reduced_df"
      ],
      "execution_count": null,
      "outputs": []
    },
    {
      "cell_type": "code",
      "metadata": {
        "id": "p6VMZGXL5O45",
        "outputId": "0b4f4dfb-de48-4ef1-fdbb-947fe3f87911",
        "colab": {
          "base_uri": "https://localhost:8080/",
          "height": 51
        }
      },
      "source": [
        "# YOUR CODE HERE to remove highly correlated features from the dataframe by calling above function.\n",
        "df = remove_Highly_Correlated(result)"
      ],
      "execution_count": null,
      "outputs": [
        {
          "output_type": "stream",
          "text": [
            "length of highly correlated columns 26\n",
            "shape of total data (1268, 192) shape of reduced data (1268, 166)\n"
          ],
          "name": "stdout"
        }
      ]
    },
    {
      "cell_type": "markdown",
      "metadata": {
        "id": "e_yZN3u9Vud7"
      },
      "source": [
        "## Exercise 6 - (3 Marks)\n",
        "\n",
        "Perform Mean Correction and Standard Scaling on the data feature/column wise.\n",
        "\n",
        "**Hint:** In order to understand the idea behind the terms used above, you may refer the following link: \n",
        "\n",
        "[StandardScaler](https://scikit-learn.org/stable/modules/generated/sklearn.preprocessing.StandardScaler.html)"
      ]
    },
    {
      "cell_type": "code",
      "metadata": {
        "id": "GPQT3NRHa2BZ"
      },
      "source": [
        "features = df.iloc[:, df.columns != 'overall_lit']"
      ],
      "execution_count": null,
      "outputs": []
    },
    {
      "cell_type": "code",
      "metadata": {
        "id": "oAiQVqsPl1ZM"
      },
      "source": [
        "# YOUR CODE HERE\n",
        "from sklearn.preprocessing import StandardScaler\n",
        "scaler = StandardScaler()\n",
        "scaled_features = scaler.fit_transform(features.values) #lost index and columns name\n",
        "scaled_features_df = pd.DataFrame(scaled_features, index=features.index, columns=features.columns)  \n"
      ],
      "execution_count": null,
      "outputs": []
    },
    {
      "cell_type": "markdown",
      "metadata": {
        "id": "xTB9sMRsVxyj"
      },
      "source": [
        "## Exercise 7 - (3 Marks)\n",
        "\n",
        "Apply different classifiers on the preprocessed data and figure out which classifier gives the best result.\n",
        "\n",
        "* Split the data into train and test\n",
        "\n",
        "* Fit the model with train data and find the accuracy of test data\n",
        "\n",
        "### Expected Accuracy is above 90%"
      ]
    },
    {
      "cell_type": "code",
      "metadata": {
        "id": "plVOwq7-cKYm",
        "outputId": "ebd5aeaf-d476-4dd4-c2ef-771913ce824b",
        "colab": {
          "base_uri": "https://localhost:8080/",
          "height": 35
        }
      },
      "source": [
        "df.columns[12]"
      ],
      "execution_count": null,
      "outputs": [
        {
          "output_type": "execute_result",
          "data": {
            "application/vnd.google.colaboratory.intrinsic+json": {
              "type": "string"
            },
            "text/plain": [
              "'overall_lit'"
            ]
          },
          "metadata": {
            "tags": []
          },
          "execution_count": 146
        }
      ]
    },
    {
      "cell_type": "code",
      "metadata": {
        "id": "yRgkeFVBqv0W"
      },
      "source": [
        "# YOUR CODE HERE for applying different classifiers\n",
        "#labels = df.iloc[:,16].values\n",
        "#df1 = scaled_features_df.iloc[:, scaled_features_df.columns != 'overall_lit']\n",
        "\n",
        "features = scaled_features_df.values # considering first 15 columns as X\n",
        "labels = df.iloc[:,12].values # considering 16 column (class) as y  \n",
        "\n"
      ],
      "execution_count": null,
      "outputs": []
    },
    {
      "cell_type": "code",
      "metadata": {
        "id": "RagWhyQiN4_1"
      },
      "source": [
        "from sklearn.model_selection import train_test_split\n",
        "X_train,X_test,y_train,y_test = train_test_split(features,labels,test_size=0.2,random_state=42)"
      ],
      "execution_count": null,
      "outputs": []
    },
    {
      "cell_type": "code",
      "metadata": {
        "id": "b8i0MgYXOFcI",
        "outputId": "9a61abef-8ff0-4684-9f19-b2b8cc002a59",
        "colab": {
          "base_uri": "https://localhost:8080/",
          "height": 34
        }
      },
      "source": [
        "X_train.shape, X_test.shape, y_test.shape, y_train.shape "
      ],
      "execution_count": null,
      "outputs": [
        {
          "output_type": "execute_result",
          "data": {
            "text/plain": [
              "((1014, 165), (254, 165), (254,), (1014,))"
            ]
          },
          "metadata": {
            "tags": []
          },
          "execution_count": 150
        }
      ]
    },
    {
      "cell_type": "code",
      "metadata": {
        "id": "BknT0sMzOYku",
        "outputId": "b136cd49-7f5f-4772-c25a-f05be86e6a16",
        "colab": {
          "base_uri": "https://localhost:8080/",
          "height": 34
        }
      },
      "source": [
        "#Decision Tree\n",
        "\n",
        "from sklearn import tree\n",
        "from sklearn.metrics import accuracy_score\n",
        "clf = tree.DecisionTreeClassifier(criterion='entropy',random_state=42)\n",
        "\n",
        "# Fitting the data\n",
        "\n",
        "clf = clf.fit(X_train,y_train)\n",
        "\n",
        "# Calculating the labels for test data\n",
        "pred = clf.predict(X_test)\n",
        "accuracy_score(y_test, pred)\n",
        "\n"
      ],
      "execution_count": null,
      "outputs": [
        {
          "output_type": "execute_result",
          "data": {
            "text/plain": [
              "0.937007874015748"
            ]
          },
          "metadata": {
            "tags": []
          },
          "execution_count": 180
        }
      ]
    },
    {
      "cell_type": "code",
      "metadata": {
        "id": "Y3lBMfRcO-OY",
        "outputId": "183e839f-f421-4c2e-f53c-6caf14441ae6",
        "colab": {
          "base_uri": "https://localhost:8080/",
          "height": 34
        }
      },
      "source": [
        "\n",
        "\n",
        "from sklearn.neighbors import KNeighborsClassifier\n",
        "\n",
        "k = 7\n",
        "X_train,X_test,y_train,y_test = train_test_split(features,labels,test_size=0.2,  random_state = 42)\n",
        "neigh = KNeighborsClassifier(n_neighbors=k)\n",
        "neigh.fit(X_train,y_train)\n",
        "prediction = neigh.predict(X_test)\n",
        "#neigh.score(X_test,y_test)\n",
        "accuracy_score(y_test,prediction)"
      ],
      "execution_count": null,
      "outputs": [
        {
          "output_type": "execute_result",
          "data": {
            "text/plain": [
              "0.7204724409448819"
            ]
          },
          "metadata": {
            "tags": []
          },
          "execution_count": 184
        }
      ]
    },
    {
      "cell_type": "code",
      "metadata": {
        "id": "y-wW98sPPc_b",
        "outputId": "0d646a36-6005-4204-b337-8e62ef64e3c9",
        "colab": {
          "base_uri": "https://localhost:8080/",
          "height": 34
        }
      },
      "source": [
        "#Random Forest\n",
        "\n",
        "from sklearn.ensemble import RandomForestClassifier\n",
        "clf1 = RandomForestClassifier(criterion='entropy', random_state=42)\n",
        "\n",
        "# YOUR CODE HERE\n",
        "clf1.fit(X_train, y_train)\n",
        "y_pred = clf1.predict(X_test)\n",
        "accuracy_score(y_test, y_pred)\n"
      ],
      "execution_count": null,
      "outputs": [
        {
          "output_type": "execute_result",
          "data": {
            "text/plain": [
              "0.9291338582677166"
            ]
          },
          "metadata": {
            "tags": []
          },
          "execution_count": 179
        }
      ]
    },
    {
      "cell_type": "code",
      "metadata": {
        "id": "QcNSh5-5QrmS",
        "outputId": "69cd30e1-b432-4961-ac16-7544154f2c40",
        "colab": {
          "base_uri": "https://localhost:8080/",
          "height": 34
        }
      },
      "source": [
        "#Bagging\n",
        "from sklearn.ensemble import BaggingClassifier\n",
        "from sklearn import metrics\n",
        "\n",
        "Bag = BaggingClassifier(random_state=42)\n",
        "\n",
        "# YOUR CODE HERE to fit and predict\n",
        "\n",
        "Bag.fit(X_train, y_train)\n",
        "y_pred1 = Bag.predict(X_test)\n",
        "accuracy_score(y_pred1, y_test)"
      ],
      "execution_count": null,
      "outputs": [
        {
          "output_type": "execute_result",
          "data": {
            "text/plain": [
              "0.9291338582677166"
            ]
          },
          "metadata": {
            "tags": []
          },
          "execution_count": 169
        }
      ]
    }
  ]
}